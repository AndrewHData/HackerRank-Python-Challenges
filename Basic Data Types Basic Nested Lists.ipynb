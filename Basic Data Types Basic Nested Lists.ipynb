{
 "cells": [
  {
   "cell_type": "markdown",
   "metadata": {},
   "source": [
    "https://www.hackerrank.com/challenges/nested-list/problem?isFullScreen=true"
   ]
  },
  {
   "cell_type": "markdown",
   "metadata": {},
   "source": [
    "Given the names and grades for each student in a class of `N` students, store them in a nested list and print the name(s) of any student(s) having the second lowest grade.\n",
    "\n",
    "Note: If there are multiple students with the second lowest grade, order their names alphabetically and print each name on a new line."
   ]
  },
  {
   "cell_type": "code",
   "execution_count": 29,
   "metadata": {},
   "outputs": [
    {
     "ename": "IndexError",
     "evalue": "list index out of range",
     "output_type": "error",
     "traceback": [
      "\u001b[1;31m---------------------------------------------------------------------------\u001b[0m",
      "\u001b[1;31mIndexError\u001b[0m                                Traceback (most recent call last)",
      "\u001b[1;32mc:\\Users\\AndrewHo\\OneDrive - MIP (Aust) Pty Ltd\\Documents\\GitHub\\HackerRank-Python-Challenges\\Basic Data Types Basic Nested Lists.ipynb Cell 3\u001b[0m line \u001b[0;36m1\n\u001b[0;32m     <a href='vscode-notebook-cell:/c%3A/Users/AndrewHo/OneDrive%20-%20MIP%20%28Aust%29%20Pty%20Ltd/Documents/GitHub/HackerRank-Python-Challenges/Basic%20Data%20Types%20Basic%20Nested%20Lists.ipynb#W0sZmlsZQ%3D%3D?line=9'>10</a>\u001b[0m distinct_grades \u001b[39m=\u001b[39m \u001b[39mlist\u001b[39m(\u001b[39mset\u001b[39m(grades))\n\u001b[0;32m     <a href='vscode-notebook-cell:/c%3A/Users/AndrewHo/OneDrive%20-%20MIP%20%28Aust%29%20Pty%20Ltd/Documents/GitHub/HackerRank-Python-Challenges/Basic%20Data%20Types%20Basic%20Nested%20Lists.ipynb#W0sZmlsZQ%3D%3D?line=10'>11</a>\u001b[0m distinct_grades\u001b[39m.\u001b[39msort()\n\u001b[1;32m---> <a href='vscode-notebook-cell:/c%3A/Users/AndrewHo/OneDrive%20-%20MIP%20%28Aust%29%20Pty%20Ltd/Documents/GitHub/HackerRank-Python-Challenges/Basic%20Data%20Types%20Basic%20Nested%20Lists.ipynb#W0sZmlsZQ%3D%3D?line=11'>12</a>\u001b[0m \u001b[39mprint\u001b[39m(distinct_grades[\u001b[39m1\u001b[39;49m])\n",
      "\u001b[1;31mIndexError\u001b[0m: list index out of range"
     ]
    }
   ],
   "source": [
    "if __name__ == '__main__':\n",
    "    for _ in range(int(input())):\n",
    "        records = []\n",
    "        grades = []    \n",
    "    \n",
    "        name = input()\n",
    "        score = float(input())\n",
    "        records.append([name,score])\n",
    "        grades.append(score)\n",
    "        distinct_grades = list(set(grades))\n",
    "        distinct_grades.sort()\n",
    "        print(distinct_grades[1])"
   ]
  }
 ],
 "metadata": {
  "kernelspec": {
   "display_name": "base",
   "language": "python",
   "name": "python3"
  },
  "language_info": {
   "codemirror_mode": {
    "name": "ipython",
    "version": 3
   },
   "file_extension": ".py",
   "mimetype": "text/x-python",
   "name": "python",
   "nbconvert_exporter": "python",
   "pygments_lexer": "ipython3",
   "version": "3.11.4"
  }
 },
 "nbformat": 4,
 "nbformat_minor": 2
}
