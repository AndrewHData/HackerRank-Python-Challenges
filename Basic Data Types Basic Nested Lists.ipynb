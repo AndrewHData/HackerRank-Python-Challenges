{
 "cells": [
  {
   "cell_type": "markdown",
   "metadata": {},
   "source": [
    "https://www.hackerrank.com/challenges/nested-list/problem?isFullScreen=true"
   ]
  },
  {
   "cell_type": "markdown",
   "metadata": {},
   "source": [
    "Given the names and grades for each student in a class of `N` students, store them in a nested list and print the name(s) of any student(s) having the second lowest grade.\n",
    "\n",
    "Note: If there are multiple students with the second lowest grade, order their names alphabetically and print each name on a new line."
   ]
  },
  {
   "cell_type": "code",
   "execution_count": 36,
   "metadata": {},
   "outputs": [
    {
     "name": "stdout",
     "output_type": "stream",
     "text": [
      "['b', 'c']\n"
     ]
    }
   ],
   "source": [
    "# My attempt\n",
    "if __name__ == '__main__':\n",
    "    records = []                        # list\n",
    "    score_list = []\n",
    "    for _ in range(int(input())):       \n",
    "        name = input()\n",
    "        score = float(input())\n",
    "        student = [name,score]\n",
    "        records.append(student)\n",
    "\n",
    "    #Find the second-highest score\n",
    "        score_list.append(score)\n",
    "        unique_scores = list(set(score_list))\n",
    "        unique_scores.sort()\n",
    "    second_highest_score = unique_scores[1]\n",
    "    \n",
    "    #If score == second_highest_score, add to a list\n",
    "    second_highest_name = []\n",
    "    for name,score in records:\n",
    "        if score == second_highest_score:\n",
    "            second_highest_name.append(name)\n",
    "    \n",
    "    #Sort the names in alphabetical order and print each name in the list. Don't print the list (ie. Second highest name)!\n",
    "    second_highest_name.sort()\n",
    "    for name in second_highest_name:\n",
    "        print(name)\n"
   ]
  },
  {
   "cell_type": "code",
   "execution_count": null,
   "metadata": {},
   "outputs": [],
   "source": [
    "# Code made by ChatGPT\n",
    "\n",
    "if __name__ == '__main__':\n",
    "    students = []  # Create an empty list to store student information\n",
    "    \n",
    "    n = int(input())  # Get the number of students\n",
    "    \n",
    "    for _ in range(n):\n",
    "        name = input()\n",
    "        score = float(input())\n",
    "        student = (name, score)  # Create a tuple for each student\n",
    "        students.append(student)  # Append the tuple to the list\n",
    "\n",
    "    # Find the second-highest score\n",
    "    scores = [score for name, score in students]\n",
    "    unique_scores = list(set(scores))\n",
    "    unique_scores.sort()\n",
    "\n",
    "    second_highest_score = unique_scores[1]\n",
    "\n",
    "    # Find and print the names with the second-highest score\n",
    "    second_highest_names = [name for name, score in students if score == second_highest_score]\n",
    "    \n",
    "    # Sort the names and print them\n",
    "    second_highest_names.sort()\n",
    "    for name in second_highest_names:\n",
    "        print(name)\n"
   ]
  }
 ],
 "metadata": {
  "kernelspec": {
   "display_name": "base",
   "language": "python",
   "name": "python3"
  },
  "language_info": {
   "codemirror_mode": {
    "name": "ipython",
    "version": 3
   },
   "file_extension": ".py",
   "mimetype": "text/x-python",
   "name": "python",
   "nbconvert_exporter": "python",
   "pygments_lexer": "ipython3",
   "version": "3.11.5"
  }
 },
 "nbformat": 4,
 "nbformat_minor": 2
}
