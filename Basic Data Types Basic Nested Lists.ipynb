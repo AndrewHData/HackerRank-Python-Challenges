{
 "cells": [
  {
   "cell_type": "markdown",
   "metadata": {},
   "source": [
    "https://www.hackerrank.com/challenges/nested-list/problem?isFullScreen=true"
   ]
  },
  {
   "cell_type": "markdown",
   "metadata": {},
   "source": [
    "Given the names and grades for each student in a class of `N` students, store them in a nested list and print the name(s) of any student(s) having the second lowest grade.\n",
    "\n",
    "Note: If there are multiple students with the second lowest grade, order their names alphabetically and print each name on a new line."
   ]
  },
  {
   "cell_type": "code",
   "execution_count": 9,
   "metadata": {},
   "outputs": [],
   "source": [
    "if __name__ == '__main__':\n",
    "    \n",
    "    student_scores = {}                     # Student_scores will be a dictionary \n",
    "    \n",
    "    n = int(input())                        # n = the number of students\n",
    "    \n",
    "    for _ in range(n):\n",
    "        name = input()                      # name will be our key\n",
    "        score = float(input())              # score will be our value\n",
    "        \n",
    "        student_scores[name] = score\n",
    "    \n",
    "    scores_list = list(set(student_scores.values()))  # Get the unique values from the dictionary and list them\n",
    "    scores_list.sort()\n",
    "    second_highest_score = scores_list[1]\n",
    "    \n",
    "    \n",
    "    second_highest_names = [name for k,v in student_scores.items() if score == second_highest_score]\n",
    "    \n",
    "    # Sorting the names and printing them\n",
    "    second_highest_names.sort()             # Sort method for sorting   \n",
    "    for name in second_highest_names:       # for loop to print each name. Read as \"For each name in the second highest names list\"\n",
    "        print(name)"
   ]
  }
 ],
 "metadata": {
  "kernelspec": {
   "display_name": "base",
   "language": "python",
   "name": "python3"
  },
  "language_info": {
   "codemirror_mode": {
    "name": "ipython",
    "version": 3
   },
   "file_extension": ".py",
   "mimetype": "text/x-python",
   "name": "python",
   "nbconvert_exporter": "python",
   "pygments_lexer": "ipython3",
   "version": "3.11.5"
  }
 },
 "nbformat": 4,
 "nbformat_minor": 2
}
