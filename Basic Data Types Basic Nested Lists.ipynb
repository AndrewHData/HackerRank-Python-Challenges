{
 "cells": [
  {
   "cell_type": "markdown",
   "metadata": {},
   "source": [
    "https://www.hackerrank.com/challenges/nested-list/problem?isFullScreen=true"
   ]
  },
  {
   "cell_type": "markdown",
   "metadata": {},
   "source": [
    "Given the names and grades for each student in a class of `N` students, store them in a nested list and print the name(s) of any student(s) having the second lowest grade.\n",
    "\n",
    "Note: If there are multiple students with the second lowest grade, order their names alphabetically and print each name on a new line."
   ]
  },
  {
   "cell_type": "code",
   "execution_count": null,
   "metadata": {},
   "outputs": [],
   "source": [
    "if __name__ == '__main__':\n",
    "    for _ in range(int(input())):\n",
    "        records = []\n",
    "        grades = []    \n",
    "    \n",
    "        name = input()\n",
    "        score = float(input())\n",
    "        records.append([name,score])\n",
    "        grades.append(score)\n",
    "        distinct_grades = list(set(grades))\n",
    "        distinct_grades.sort()\n",
    "        print(distinct_grades[1])"
   ]
  }
 ],
 "metadata": {
  "kernelspec": {
   "display_name": "base",
   "language": "python",
   "name": "python3"
  },
  "language_info": {
   "codemirror_mode": {
    "name": "ipython",
    "version": 3
   },
   "file_extension": ".py",
   "mimetype": "text/x-python",
   "name": "python",
   "nbconvert_exporter": "python",
   "pygments_lexer": "ipython3",
   "version": "3.11.4"
  }
 },
 "nbformat": 4,
 "nbformat_minor": 2
}
