{
 "cells": [
  {
   "cell_type": "markdown",
   "metadata": {},
   "source": [
    "https://www.hackerrank.com/challenges/py-if-else/problem?isFullScreen=true"
   ]
  },
  {
   "cell_type": "markdown",
   "metadata": {},
   "source": [
    "Task\n",
    "Given an integer, `n`, perform the following conditional actions:\n",
    "\n",
    "If `n` is odd, print `Weird`\n",
    "If `n` is even and in the inclusive range of `2` to `5`, print `Not Weird`\n",
    "If `n` is even and in the inclusive range of `6` to `20`, print `Weird`\n",
    "If `n` is even and greater than `20`, print `Not Weird`"
   ]
  },
  {
   "cell_type": "code",
   "execution_count": 1,
   "metadata": {},
   "outputs": [
    {
     "name": "stdout",
     "output_type": "stream",
     "text": [
      "Weird\n"
     ]
    }
   ],
   "source": [
    "# My solution\n",
    "import math\n",
    "import os\n",
    "import random\n",
    "import re\n",
    "import sys\n",
    "\n",
    "\n",
    "\n",
    "if __name__ == '__main__':\n",
    "    n = int(input().strip())\n",
    "    if n % 2 != 0:\n",
    "        print('Weird')\n",
    "    elif n % 2 == 0:\n",
    "        if n >= 2 and n <= 5:\n",
    "            print('Not Weird')\n",
    "        elif n >= 6 and n <= 20:\n",
    "            print('Weird')\n",
    "        else:\n",
    "            print('Not Weird')"
   ]
  }
 ],
 "metadata": {
  "kernelspec": {
   "display_name": "base",
   "language": "python",
   "name": "python3"
  },
  "language_info": {
   "codemirror_mode": {
    "name": "ipython",
    "version": 3
   },
   "file_extension": ".py",
   "mimetype": "text/x-python",
   "name": "python",
   "nbconvert_exporter": "python",
   "pygments_lexer": "ipython3",
   "version": "3.11.4"
  },
  "orig_nbformat": 4
 },
 "nbformat": 4,
 "nbformat_minor": 2
}
