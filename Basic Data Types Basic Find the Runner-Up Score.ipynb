{
 "cells": [
  {
   "cell_type": "markdown",
   "metadata": {},
   "source": [
    "https://www.hackerrank.com/challenges/find-second-maximum-number-in-a-list/problem?isFullScreen=true"
   ]
  },
  {
   "cell_type": "markdown",
   "metadata": {},
   "source": [
    "Given the participants' score sheet for your University Sports Day, you are required to find the runner-up score. You are given `n` scores. \n",
    "\n",
    "Store them in a list and find the score of the runner-up."
   ]
  },
  {
   "cell_type": "markdown",
   "metadata": {},
   "source": [
    "The first line contains `n`. The second line contains an array A[] of `n` integers each separated by a space\n",
    "\n",
    "Print the runner-up score"
   ]
  },
  {
   "cell_type": "markdown",
   "metadata": {},
   "source": [
    "Sample Input<br>\n",
    "`5`<br>\n",
    "`2 3 6 6 5`\n",
    "\n",
    "Sample output<br>\n",
    "`5`"
   ]
  },
  {
   "cell_type": "code",
   "execution_count": 1,
   "metadata": {},
   "outputs": [
    {
     "ename": "ValueError",
     "evalue": "invalid literal for int() with base 10: ''",
     "output_type": "error",
     "traceback": [
      "\u001b[1;31m---------------------------------------------------------------------------\u001b[0m",
      "\u001b[1;31mValueError\u001b[0m                                Traceback (most recent call last)",
      "\u001b[1;32mc:\\Users\\AndrewHo\\OneDrive - MIP (Aust) Pty Ltd\\Documents\\GitHub\\HackerRank-Python-Challenges\\Basic Data Types Basic Find the Runner-Up Score.ipynb Cell 5\u001b[0m line \u001b[0;36m2\n\u001b[0;32m      <a href='vscode-notebook-cell:/c%3A/Users/AndrewHo/OneDrive%20-%20MIP%20%28Aust%29%20Pty%20Ltd/Documents/GitHub/HackerRank-Python-Challenges/Basic%20Data%20Types%20Basic%20Find%20the%20Runner-Up%20Score.ipynb#W4sZmlsZQ%3D%3D?line=0'>1</a>\u001b[0m \u001b[39mif\u001b[39;00m \u001b[39m__name__\u001b[39m \u001b[39m==\u001b[39m \u001b[39m'\u001b[39m\u001b[39m__main__\u001b[39m\u001b[39m'\u001b[39m:\n\u001b[1;32m----> <a href='vscode-notebook-cell:/c%3A/Users/AndrewHo/OneDrive%20-%20MIP%20%28Aust%29%20Pty%20Ltd/Documents/GitHub/HackerRank-Python-Challenges/Basic%20Data%20Types%20Basic%20Find%20the%20Runner-Up%20Score.ipynb#W4sZmlsZQ%3D%3D?line=1'>2</a>\u001b[0m     n \u001b[39m=\u001b[39m \u001b[39mint\u001b[39;49m(\u001b[39minput\u001b[39;49m())\n\u001b[0;32m      <a href='vscode-notebook-cell:/c%3A/Users/AndrewHo/OneDrive%20-%20MIP%20%28Aust%29%20Pty%20Ltd/Documents/GitHub/HackerRank-Python-Challenges/Basic%20Data%20Types%20Basic%20Find%20the%20Runner-Up%20Score.ipynb#W4sZmlsZQ%3D%3D?line=2'>3</a>\u001b[0m     arr \u001b[39m=\u001b[39m \u001b[39mmap\u001b[39m(\u001b[39mint\u001b[39m, \u001b[39minput\u001b[39m()\u001b[39m.\u001b[39msplit())\n\u001b[0;32m      <a href='vscode-notebook-cell:/c%3A/Users/AndrewHo/OneDrive%20-%20MIP%20%28Aust%29%20Pty%20Ltd/Documents/GitHub/HackerRank-Python-Challenges/Basic%20Data%20Types%20Basic%20Find%20the%20Runner-Up%20Score.ipynb#W4sZmlsZQ%3D%3D?line=4'>5</a>\u001b[0m     n_list \u001b[39m=\u001b[39m \u001b[39mlist\u001b[39m(arr)\n",
      "\u001b[1;31mValueError\u001b[0m: invalid literal for int() with base 10: ''"
     ]
    }
   ],
   "source": [
    "if __name__ == '__main__':\n",
    "    n = int(input())\n",
    "    arr = map(int, input().split())\n",
    "\n",
    "    n_list = list(arr)\n",
    "    n_list = set(n_list)                # set(list_name) returns the unique values of a list as a tuple \n",
    "    n_list = list(n_list)               # list(list_name) converts the tuple into a list data type\n",
    "    n_list.sort()                       # sort the list in ascending order\n",
    "    print(n_list[-2])"
   ]
  }
 ],
 "metadata": {
  "kernelspec": {
   "display_name": "base",
   "language": "python",
   "name": "python3"
  },
  "language_info": {
   "codemirror_mode": {
    "name": "ipython",
    "version": 3
   },
   "file_extension": ".py",
   "mimetype": "text/x-python",
   "name": "python",
   "nbconvert_exporter": "python",
   "pygments_lexer": "ipython3",
   "version": "3.11.4"
  },
  "orig_nbformat": 4
 },
 "nbformat": 4,
 "nbformat_minor": 2
}
